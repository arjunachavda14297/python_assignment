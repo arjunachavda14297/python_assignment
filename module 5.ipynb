{
 "cells": [
  {
   "cell_type": "markdown",
   "id": "a5c8cb02",
   "metadata": {},
   "source": [
    "# Module : 5"
   ]
  },
  {
   "cell_type": "code",
   "execution_count": null,
   "id": "78d22b99",
   "metadata": {},
   "outputs": [],
   "source": [
    "# Why Django should be used for web-development? Explain how you can create a project in Django?\n",
    "\n",
    "--> Django is a web framework in python to develop a web application in python.\n",
    "->  To ease the website administration, it provides auto-generated web admin.\n",
    "->  It provides pre-packaged API for common user tasks.\n",
    "->  It gives us template system to define HTML template for our web page to avoid code duplication.\n",
    "->  It enables us to define what URL be for a given function.\n",
    "\n",
    "--> To create a project in django we will use the 'django-admin startproject <project_name>' command in command prompt."
   ]
  },
  {
   "cell_type": "code",
   "execution_count": null,
   "id": "72ea490a",
   "metadata": {},
   "outputs": [],
   "source": [
    "# How to check installed version of django?\n",
    "\n",
    "--> To check installed version of django we should use \" python -m django --version \" command in command prompt.\n",
    "--> Or we can use \" django-admin version \" command"
   ]
  },
  {
   "cell_type": "code",
   "execution_count": null,
   "id": "2c1869b6",
   "metadata": {},
   "outputs": [],
   "source": [
    "# What is Django URLs? make program to create django urls.\n",
    "\n",
    "--> URL is a web address. We can see a URL every time we visit a website, it is avisible in our brouser's address bar.\n",
    "->  To create django usls, first we make the path that url follow that path and work on that.\n",
    "-   In path we will give the name which is show in brouser address bar, after that we gave the path so this path fatch function \n",
    "    from our views file. and we give it's name to find url from html page.\n",
    "->  ie. path(\"search/\",views.search,name='search')\n",
    "-   when we will take action on html templates find urls name on urls file. here find url which name is 'search' and after that \n",
    "    it will go on views file and fatch the same name which give in urls files (views.search) and execute that function.\n",
    "-   \"search/\" is shown at brouser's address bar."
   ]
  },
  {
   "cell_type": "code",
   "execution_count": null,
   "id": "7be2b20a",
   "metadata": {},
   "outputs": [],
   "source": [
    "# What is a QuerySet? Write program to create a new Post object in database:\n",
    "\n",
    "--> A QuerySet is a collection of data from a database.\n",
    "--  A QuerySet is built up as a list of objects.\n",
    "--  QuerySets makes it easier to get the data we actually need, by allowing us to filter and order the data at an early stage.\n",
    "\n",
    "--> To create new Post object in databse, first we need to create class which we actully want. Here we want User class.\n",
    "-- ex. \n",
    "    class User(models.Model):\n",
    "        username=models.CharField(max_length=100)\n",
    "        password=models.Charfield(max_length=100)\n",
    "    \n",
    "   -  Now we create a New object in a database with 'create' keyword.\n",
    "       User.objects.create(\n",
    "       username='admin',\n",
    "       password='admin123')\n",
    "    \n",
    "   -  So the new post object is created."
   ]
  },
  {
   "cell_type": "code",
   "execution_count": null,
   "id": "7a70280d",
   "metadata": {},
   "outputs": [],
   "source": [
    "# Mention what command line can be used to load data into Django?\n",
    "\n",
    "--> To load data into Django we have to use the command line \"Django-admin.py loaddata\".\n",
    "--- The commandline will searches the data and loads the contents of the named fixtures into the database."
   ]
  },
  {
   "cell_type": "code",
   "execution_count": null,
   "id": "cc57317c",
   "metadata": {},
   "outputs": [],
   "source": [
    "# Explain what does django-admin.py make messages command is used for?\n",
    "\n",
    "--> This command line executes over the entire source tree of the current directory and abstacts all the strings marked for\n",
    "    translation. it makes a message file in the locale directory."
   ]
  }
 ],
 "metadata": {
  "kernelspec": {
   "display_name": "Python 3 (ipykernel)",
   "language": "python",
   "name": "python3"
  },
  "language_info": {
   "codemirror_mode": {
    "name": "ipython",
    "version": 3
   },
   "file_extension": ".py",
   "mimetype": "text/x-python",
   "name": "python",
   "nbconvert_exporter": "python",
   "pygments_lexer": "ipython3",
   "version": "3.9.12"
  }
 },
 "nbformat": 4,
 "nbformat_minor": 5
}
