{
 "cells": [
  {
   "cell_type": "markdown",
   "id": "80d57725",
   "metadata": {},
   "source": [
    "# Module 3"
   ]
  },
  {
   "cell_type": "code",
   "execution_count": null,
   "id": "ec74b75e",
   "metadata": {},
   "outputs": [],
   "source": [
    "# What is List? How will you reverse a list?\n",
    "\n",
    "# -> List is an ordered sequense of items. values stored in a list are separated by ',' and enclosed within a squarebracket [].\n",
    "# --> there are slicing method to reverse the list\n",
    "\n",
    "list=[1,2,5,4,True,'arjun',[55,44,88]]\n",
    "l=list[-1::-1]\n",
    "print(l)\n",
    "\n",
    "# --> use also reverse() function to reverse the list\n",
    "\n",
    "l=[1,2,5,4,True,'arjun',[55,44,88]]\n",
    "l.reverse()\n",
    "print(l)"
   ]
  },
  {
   "cell_type": "code",
   "execution_count": null,
   "id": "b6b20db0",
   "metadata": {},
   "outputs": [],
   "source": [
    "# How will you remove last object from a list?\n",
    "\n",
    "list=list=[1,2,5,4,True,'python',[55,44,88],{15,'abc'}]\n",
    "print(list.pop(-1))\n",
    "print(list)"
   ]
  },
  {
   "cell_type": "code",
   "execution_count": null,
   "id": "e3391fad",
   "metadata": {},
   "outputs": [],
   "source": [
    "# Suppose list1 is [2, 33, 222, 14, 25], what is list1 [-1]?\n",
    "\n",
    "# --> list1[-1] = 25\n",
    "\n",
    "list1=[2,33,222,14,25]\n",
    "print(list1[-1])"
   ]
  },
  {
   "cell_type": "code",
   "execution_count": null,
   "id": "95e43b7b",
   "metadata": {},
   "outputs": [],
   "source": [
    "# Differentiate between append () and extend () methods?\n",
    "\n",
    "# --> append() - append method is used to add an element at the end of existing elements.\n",
    "# --> extend() - it adds the sequence to existing list.\n",
    "\n",
    "list=[2,30,12,14,25]\n",
    "list.append([111,222,333])\n",
    "print(list)\n",
    "\n",
    "l=[2,30,12,14,25]\n",
    "l.extend([111,222,333])\n",
    "print(l)"
   ]
  },
  {
   "cell_type": "code",
   "execution_count": null,
   "id": "7c3b65ec",
   "metadata": {},
   "outputs": [],
   "source": [
    "# Write a Python function to get the largest number, smallest num and sum of all from a list.\n",
    "\n",
    "list1=[2,30,12,14,25]\n",
    "print('largest number :', max(list1))\n",
    "print('smallest number :',min(list1))\n",
    "\n",
    "sum=0\n",
    "for num in list1:\n",
    "    sum+=num\n",
    "print('sum :',sum)"
   ]
  },
  {
   "cell_type": "code",
   "execution_count": null,
   "id": "9bfb6182",
   "metadata": {},
   "outputs": [],
   "source": [
    "# How will you compare two lists?\n",
    "\n",
    "# --> there are two method to compare two lists.\n",
    "\n",
    "# method 1 :\n",
    "\n",
    "list1=[2,30,12,14,25,57]\n",
    "list2=['arjun',True,55,21,['a','b','c'],485]\n",
    "\n",
    "for num in range(len(list1)):\n",
    "    print(list1[num],list2[num])\n",
    "print()\n",
    "# method 2 :\n",
    "\n",
    "list1=[2,30,12,14,25,54,44,58]\n",
    "list2=['arjun',True,55,21,['a','b','c'],485]\n",
    "\n",
    "for num1,num2 in zip(list1,list2):\n",
    "    print(num1,num2)"
   ]
  },
  {
   "cell_type": "code",
   "execution_count": null,
   "id": "934f2e1b",
   "metadata": {},
   "outputs": [],
   "source": [
    "# Write a Python program to count the number of strings where the string length is 2 or more and the first and last character_\n",
    "# are same from a given list of strings.\n",
    "\n",
    "list1=['arjun','ahir','mam','lol','money','w','charecteristic','nayan','kamal','go','i','dd']\n",
    "l=[]\n",
    "for substring in list1:\n",
    "    if len(substring)>=2 and substring[0]==substring[-1]:\n",
    "        l.append(substring)\n",
    "print('count of substring where the length is 2 or more and the first and last character are same is',len(l))"
   ]
  },
  {
   "cell_type": "code",
   "execution_count": null,
   "id": "42c50ff2",
   "metadata": {},
   "outputs": [],
   "source": [
    "# Write a Python program to remove duplicates from a list.\n",
    "\n",
    "list1=[1,4,5,24,8,7,5,88,4,55,22,88,66,54,24,4]\n",
    "l=[]\n",
    "for num in list1:\n",
    "    if num not in l:\n",
    "        l.append(num)\n",
    "list1=l.copy()\n",
    "print(list1)"
   ]
  },
  {
   "cell_type": "code",
   "execution_count": null,
   "id": "9e067680",
   "metadata": {},
   "outputs": [],
   "source": [
    "# Write a Python program to check a list is empty or not.\n",
    "\n",
    "list1=[]\n",
    "\n",
    "if len(list1)==0:\n",
    "    print('list1 is empty.')\n",
    "else:\n",
    "    print('list1 is not empty')"
   ]
  },
  {
   "cell_type": "code",
   "execution_count": null,
   "id": "93915f48",
   "metadata": {},
   "outputs": [],
   "source": [
    "# Write a Python function that takes two lists and returns true if they have at least one common member.\n",
    "\n",
    "list1=[1,5,9,7,6,4,245,51,86,72]\n",
    "list2=[65,8,3,24,96,51,45,35,85,42]\n",
    "\n",
    "for num in list1:\n",
    "    if num in list2:\n",
    "        print(True)\n",
    "        print(num,'is common member in both list.')\n",
    "        break\n",
    "else:\n",
    "        print('there are no any common member in both list')\n",
    "        "
   ]
  },
  {
   "cell_type": "code",
   "execution_count": null,
   "id": "2157ac48",
   "metadata": {},
   "outputs": [],
   "source": [
    "# Write a Python program to generate and print a list of first and last 5 elements where the values are square of numbers_\n",
    "# between 1 and 30.\n",
    "\n",
    "def Values():\n",
    "    l = list()\n",
    "    for i in range(1,21):\n",
    "        l.append(i**2)\n",
    "    print(l[:5])\n",
    "    print(l[-5:])\n",
    "\n",
    "Values()"
   ]
  },
  {
   "cell_type": "code",
   "execution_count": null,
   "id": "b9d30a35",
   "metadata": {},
   "outputs": [],
   "source": [
    "# Write a Python function that takes a list and returns a new list with unique elements of the first list.\n",
    "\n",
    "list1=[52,51,5,9,7,6,4,24,51,86,72,5,7,8]\n",
    "list2=[]\n",
    "for a in list1:\n",
    "    if a not in list2:\n",
    "        list2.append(a)\n",
    "    else:\n",
    "        list2.remove(a)\n",
    "print(list2)"
   ]
  },
  {
   "cell_type": "code",
   "execution_count": null,
   "id": "8b141664",
   "metadata": {},
   "outputs": [],
   "source": [
    "# Write a Python program to convert a list of characters into a string.\n",
    "\n",
    "list=['welcome','to','tops','technoliges']\n",
    "# left to right\n",
    "w=''\n",
    "for char in list:\n",
    "    a=w+' '+char\n",
    "    w=a\n",
    "print(w)\n",
    "print(type(w))\n",
    "print()\n",
    "\n",
    "# right to left\n",
    "r=''\n",
    "for char in list:\n",
    "    b=char+' '+r\n",
    "    r=b\n",
    "print(r)\n",
    "print(type(r))"
   ]
  },
  {
   "cell_type": "code",
   "execution_count": null,
   "id": "ab8fc591",
   "metadata": {},
   "outputs": [],
   "source": [
    "# Write a Python program to select an item randomly from a list.\n",
    "\n",
    "import random\n",
    "# use of randint.\n",
    "l=[1,5,3,8,7,'arjun','ahir','abc',True,None,55,[81,61,91],{159,357}]\n",
    "w=random.randint(0,len(l)-1)\n",
    "print(l[w])\n",
    "\n",
    "print()\n",
    "\n",
    "#use of choice.\n",
    "l=[1,5,3,8,7,'arjun','ahir','abc',True,None,55,[81,61,91],{159,357}]\n",
    "w=random.choice(l)\n",
    "print(w)"
   ]
  },
  {
   "cell_type": "code",
   "execution_count": null,
   "id": "9c282c7d",
   "metadata": {},
   "outputs": [],
   "source": [
    "# Write a Python program to find the second smallest number in a list.\n",
    "\n",
    "list=[5,9,8,2,7,4,5,6,5,544,2,4,45,2,778,4,65,1]\n",
    "m=min(list)\n",
    "for w in range(1):\n",
    "    if m in list:\n",
    "        list.remove(m)\n",
    "print(min(list))"
   ]
  },
  {
   "cell_type": "code",
   "execution_count": null,
   "id": "ec6f0669",
   "metadata": {},
   "outputs": [],
   "source": [
    "# Write a Python program to get unique values from a list\n",
    "\n",
    "list=[1,2,5,9,5,4,7,6,21,14,5,47,45,8,2,1,3,21,3]\n",
    "list2=[]\n",
    "for w in list:\n",
    "    val=list.count(w)\n",
    "    if val==1:\n",
    "        list2.append(w)\n",
    "print(list2)"
   ]
  },
  {
   "cell_type": "code",
   "execution_count": null,
   "id": "7b1df915",
   "metadata": {
    "scrolled": true
   },
   "outputs": [],
   "source": [
    "# Write a Python program to check whether a list contains a sub list.\n",
    "\n",
    "list1=[1,5,'8',7,6,9,2,[5,4,5],'4',[6,4]]\n",
    "for sub in list1:\n",
    "    if type(sub)==list:\n",
    "        print('This list contains a sub list.\\nSub list is',sub)\n",
    "        break\n",
    "else:\n",
    "    print('This list has no any sub list')"
   ]
  },
  {
   "cell_type": "code",
   "execution_count": null,
   "id": "bbcbf3c7",
   "metadata": {
    "scrolled": true
   },
   "outputs": [],
   "source": [
    "# Write a Python program to split a list into different variables.\n",
    "\n",
    "color = [('python','php','java'), ('css','html','javascript'),('android','window','ios')]\n",
    "var1, var2, var3 = color\n",
    "print(var1)\n",
    "print(var2)\n",
    "print(var3)"
   ]
  },
  {
   "cell_type": "code",
   "execution_count": null,
   "id": "f0427674",
   "metadata": {},
   "outputs": [],
   "source": [
    "# What is tuple? Difference between list and tuple.\n",
    "\n",
    "# - Tuple is a ordered sequence of items. values stored in a tuple are saperated by ',' and enclosed within a paranthesis ().\n",
    "# - Difference between list and tuple is list is mutable where tuple is immutable.\n",
    "# - we can not add any items in tuple, where we can add no. of items in list."
   ]
  },
  {
   "cell_type": "code",
   "execution_count": null,
   "id": "d29b16aa",
   "metadata": {},
   "outputs": [],
   "source": [
    "# Write a Python program to create a tuple with different data types.\n",
    "\n",
    "tuple1=tuple(('arjun',None,5,4.5,9,33,(21,61,81)))\n",
    "print(tuple1)\n",
    "print(type(tuple1))"
   ]
  },
  {
   "cell_type": "code",
   "execution_count": null,
   "id": "3370a9c5",
   "metadata": {},
   "outputs": [],
   "source": [
    "# Write a Python program to create a tuple with numbers.\n",
    "\n",
    "val=tuple((5,6,4.6,8.5,111))\n",
    "print(val)\n",
    "print(type(val))"
   ]
  },
  {
   "cell_type": "code",
   "execution_count": null,
   "id": "b3aa5cf4",
   "metadata": {},
   "outputs": [],
   "source": [
    "# Write a Python program to convert a tuple to a string.\n",
    "\n",
    "tpl=(5,6,8.5,True,'arjun',44,None,(4,5,8),'TOPS')\n",
    "string=''\n",
    "for element in tpl:\n",
    "    w=string+' '+str(element)\n",
    "    string=w\n",
    "print(string)\n",
    "print(type(string))"
   ]
  },
  {
   "cell_type": "code",
   "execution_count": null,
   "id": "11e352c9",
   "metadata": {},
   "outputs": [],
   "source": [
    "# Write a Python program to check whether an element exists within a tuple.\n",
    "\n",
    "tpl=('mouse','computer','cpu','keyboard','internet')\n",
    "element=input('enter element :')\n",
    "if element in tpl:\n",
    "    print(element,'exists within a tuple')\n",
    "else:\n",
    "    print(element,'does not exsists within a tuple')"
   ]
  },
  {
   "cell_type": "code",
   "execution_count": null,
   "id": "401a2b58",
   "metadata": {},
   "outputs": [],
   "source": [
    "# Write a Python program to find the length of a tuple.\n",
    "\n",
    "tpl=(4,5,9,'ahir',8,7,1,2,3,6,85,54,44,'arjun')\n",
    "print(len(tpl))"
   ]
  },
  {
   "cell_type": "code",
   "execution_count": null,
   "id": "8c8ae92a",
   "metadata": {},
   "outputs": [],
   "source": [
    "# Write a Python program to convert a list to a tuple.\n",
    "\n",
    "list1=[4,5,9,'ahir',8,7,1,2,3,6,85,54,44,'arjun']\n",
    "tpl=tuple(list1)\n",
    "print(tpl)"
   ]
  },
  {
   "cell_type": "code",
   "execution_count": null,
   "id": "f477c6a9",
   "metadata": {},
   "outputs": [],
   "source": [
    "# Write a Python program to reverse a tuple.\n",
    "\n",
    "tpl=(5,4,8,9,55,47,6,21)\n",
    "print(tpl[-1::-1])"
   ]
  },
  {
   "cell_type": "code",
   "execution_count": null,
   "id": "2bd1e03c",
   "metadata": {},
   "outputs": [],
   "source": [
    "# Write a Python program to replace last value of tuples in a list.\n",
    "\n",
    "tpl=(4,5,9,8.5,'abc',[8,2,5],('a','b','c'),111.25)\n",
    "lst=list(tpl)\n",
    "w=lst[-1]\n",
    "del lst[-1]\n",
    "if type(w)==int or type(w)==float or type(w)==str:\n",
    "    last=list([w])\n",
    "else:\n",
    "    last=list(w)\n",
    "lst.append(last)\n",
    "tpl=tuple(lst)\n",
    "print(tpl)"
   ]
  },
  {
   "cell_type": "code",
   "execution_count": null,
   "id": "9fd93f9a",
   "metadata": {},
   "outputs": [],
   "source": [
    "# Write a Python program to find the repeated items of a tuple.\n",
    "\n",
    "tpl=(1,5,2,4,'d',8,6,44,88,55,45,2,44,6,99,'a','d','e','72','a',2,'d')\n",
    "lst=[]\n",
    "for val in tpl:\n",
    "    w=tpl.count(val)\n",
    "    if val not in lst:\n",
    "        lst.append(val)\n",
    "        if w>1:\n",
    "            print(val,'is repeat',w,'time')"
   ]
  },
  {
   "cell_type": "code",
   "execution_count": null,
   "id": "930c2a70",
   "metadata": {},
   "outputs": [],
   "source": [
    "# Write a Python program to remove an empty tuple(s) from a list of tuples.\n",
    "\n",
    "lst=[(4,5,6),(5,8),(5,),(),(55,95,25),(),(32,6,26)]\n",
    "for ele in lst:\n",
    "    if len(ele)==0:\n",
    "        lst.remove(ele)\n",
    "print(lst)"
   ]
  },
  {
   "cell_type": "code",
   "execution_count": null,
   "id": "0166743e",
   "metadata": {},
   "outputs": [],
   "source": [
    "# Write a Python program to unzip a list of tuples into individual lists.\n",
    "\n",
    "l = [(1,2), (3,4), (8,9)]\n",
    "print(list(zip(*l)))"
   ]
  },
  {
   "cell_type": "code",
   "execution_count": null,
   "id": "e2e148e5",
   "metadata": {},
   "outputs": [],
   "source": [
    "# Write a Python program to convert a list of tuples into a dictionary.\n",
    "\n",
    "lst=[('name','abc'),('city','jkl'),('state','lmn')]\n",
    "print(dict(lst))"
   ]
  },
  {
   "cell_type": "code",
   "execution_count": null,
   "id": "93263c49",
   "metadata": {},
   "outputs": [],
   "source": [
    "# How will you create a dictionary using tuples in python?\n",
    "\n",
    "key1=('a','b','c','d','e')\n",
    "color=('red','blue','black','green','white','gray')\n",
    "dict1={}.fromkeys(key1)\n",
    "\n",
    "if len(key1)<len(color):\n",
    "    for w in range(len(key1)):\n",
    "        dict1[key1[w]]=color[w]\n",
    "else:\n",
    "    for w in range(len(color)):\n",
    "        dict1[key1[w]]=color[w]\n",
    "print(dict1)"
   ]
  },
  {
   "cell_type": "code",
   "execution_count": null,
   "id": "ac9b1859",
   "metadata": {},
   "outputs": [],
   "source": [
    "# Write a Python script to sort (ascending and descending) a dictionary by value.\n",
    "\n",
    "dict={'a':10,'t':45,'r':15,'d':24,'e':5}\n",
    "print(sorted(dict.values()))"
   ]
  },
  {
   "cell_type": "code",
   "execution_count": null,
   "id": "ba8e4c5e",
   "metadata": {},
   "outputs": [],
   "source": [
    "# Write a Python script to concatenate following dictionaries to create a new one.\n",
    "\n",
    "dict1={1:'a',2:'b',3:'c'}\n",
    "dict2={'name':'abc','city':'xyz',3:'g'}\n",
    "dictnew=dict1.copy()\n",
    "dictnew.update(dict2)\n",
    "print(dictnew)"
   ]
  },
  {
   "cell_type": "code",
   "execution_count": null,
   "id": "a8114bc7",
   "metadata": {},
   "outputs": [],
   "source": [
    "# Write a Python script to check if a given key already exists in a dictionary.\n",
    "def dictionary():\n",
    "    key=input('Enter key :')\n",
    "    dict1={'name': 'abc', 'city': 'xyz','state':'jkl'}\n",
    "    if key in dict1:\n",
    "        print(key,'key is already exist in dictionary.')\n",
    "    else:\n",
    "        print(key,'key is not exist in dictionary.')\n",
    "dictionary()"
   ]
  },
  {
   "cell_type": "code",
   "execution_count": null,
   "id": "e689cf69",
   "metadata": {},
   "outputs": [],
   "source": [
    "# How Do You Traverse Through A Dictionary Object In Python?"
   ]
  },
  {
   "cell_type": "code",
   "execution_count": null,
   "id": "443d64c6",
   "metadata": {},
   "outputs": [],
   "source": [
    "# How Do You Check The Presence Of A Key In A Dictionary?\n",
    "\n",
    "dic={'name':'abc','city':'pqr','state':'jkl'}\n",
    "key='city'\n",
    "if key in dic.keys():\n",
    "    print('key already exist')\n",
    "else:\n",
    "    print('key not in dictionary')"
   ]
  },
  {
   "cell_type": "code",
   "execution_count": null,
   "id": "ce55e99e",
   "metadata": {},
   "outputs": [],
   "source": [
    "# Write a Python script to print a dictionary where the keys are numbers between 1 and 15.\n",
    "\n",
    "lst=[key for key in range(2,15)]\n",
    "dictionary={}.fromkeys(lst)\n",
    "print(dictionary)"
   ]
  },
  {
   "cell_type": "code",
   "execution_count": null,
   "id": "0e1f020a",
   "metadata": {},
   "outputs": [],
   "source": [
    "# Write a Python program to check multiple keys exists in a dictionary\n",
    "\n",
    "dc={'name': 'abc', 'city': 'xyz','state':'jkl'}\n",
    "if len(dc)>1:\n",
    "    print('Dictionary has a multiple keys.')\n",
    "elif len(dc)==1:\n",
    "    print('Dictionary has a single key.')\n",
    "else:\n",
    "    print('Empty dictionary')"
   ]
  },
  {
   "cell_type": "code",
   "execution_count": null,
   "id": "6f0698e7",
   "metadata": {},
   "outputs": [],
   "source": [
    "# Write a Python script to merge two Python dictionaries.\n",
    "\n",
    "dict1={'Gujarat':'Gandhinagar','Bihar':'Patana','Panjab':'Chandigadh'}\n",
    "dict2={'Girsomnath':'Veraval','Banaskantha':'Palanpur','Sabarkantha':'Himmatnagar'}\n",
    "dict1.update(dict2)\n",
    "print(dict1)"
   ]
  },
  {
   "cell_type": "code",
   "execution_count": null,
   "id": "8edc7db5",
   "metadata": {},
   "outputs": [],
   "source": [
    "# Write a Python program to map two lists into a dictionary.\n",
    "\n",
    "country=['india','shrilanka','japan','indonasia']\n",
    "capital=['dilhi','kathmandu','mosko','jakarta']\n",
    "print(dict(zip(country,capital)))"
   ]
  },
  {
   "cell_type": "code",
   "execution_count": null,
   "id": "7018cae9",
   "metadata": {},
   "outputs": [],
   "source": [
    "# Write a Python program to combine two dictionary adding values for common keys.\n",
    "d1 = {'a': 100, 'b': 200, 'c':300}\n",
    "d2 = {'a': 300, 'b': 200,'d':400}\n",
    "# Sample output: Counter ({'a': 400, 'b': 400,’d’: 400, 'c': 300}).\n",
    "\n",
    "from collections import Counter\n",
    "d1 = {'a': 100, 'b': 200, 'c':300}\n",
    "d2 = {'a': 300, 'b': 200, 'd':400}\n",
    "d = Counter(d1) + Counter(d2)\n",
    "print(d)"
   ]
  },
  {
   "cell_type": "code",
   "execution_count": null,
   "id": "efb3d418",
   "metadata": {},
   "outputs": [],
   "source": [
    "# Write a Python program to print all unique values in a dictionary.\n",
    "\n",
    "dict={'a':5,'b':8,'c':9,'d':15,'e':5,'f':4,'g':8}\n",
    "lst=[]\n",
    "for a in dict.values():\n",
    "    if a not in lst:\n",
    "        lst.append(a)\n",
    "print(lst)"
   ]
  },
  {
   "cell_type": "code",
   "execution_count": null,
   "id": "121e8173",
   "metadata": {},
   "outputs": [],
   "source": [
    "# Why Do You Use the Zip () Method in Python?\n",
    "\n",
    "# --> Zip() function creates an iterator that will aggregrate elements from two or more iterables."
   ]
  },
  {
   "cell_type": "code",
   "execution_count": null,
   "id": "d9438520",
   "metadata": {},
   "outputs": [],
   "source": [
    "# Write a Python program to create and display all combinations of letters, selecting each letter from a different key in a\n",
    "# dictionary. Sample data: {'1': ['a','b'], '2': ['c','d']} \n",
    "# Expected Output: ac ad bc bd"
   ]
  },
  {
   "cell_type": "code",
   "execution_count": null,
   "id": "1ed8f1c6",
   "metadata": {},
   "outputs": [],
   "source": [
    "# Write a Python program to find the highest 3 values in a dictionary.\n",
    "\n",
    "my_dict = {'A': 67, 'B': 23, 'C': 45,\n",
    "        'D': 56, 'E': 12, 'F': 69}\n",
    " \n",
    "print(\"Initial Dictionary:\")\n",
    "print(my_dict, \"\\n\")\n",
    " \n",
    "print(\"Dictionary with 3 highest values:\")\n",
    "print(\"Keys: Values\")\n",
    " \n",
    "x=list(my_dict.values())\n",
    "d=dict()\n",
    "x.sort(reverse=True)\n",
    "x=x[:3]\n",
    "for i in x:\n",
    "    for j in my_dict.keys():\n",
    "        if(my_dict[j]==i):\n",
    "            print(str(j)+\" : \"+str(my_dict[j]))"
   ]
  },
  {
   "cell_type": "code",
   "execution_count": null,
   "id": "8bc6005e",
   "metadata": {},
   "outputs": [],
   "source": [
    "# Write a Python program to combine values in python list of dictionaries.\n",
    "# Sample data: [{'item': 'item1', 'amount': 400}, {'item': 'item2', 'amount': 300}, {'item': 'item1', 'amount': 750}] \n",
    "# Expected Output: Counter ({'item1': 1150, 'item2': 300}) "
   ]
  },
  {
   "cell_type": "code",
   "execution_count": null,
   "id": "64f43efa",
   "metadata": {},
   "outputs": [],
   "source": [
    "# Write a Python program to create a dictionary from a string. \n",
    "# Note: Track the count of the letters from the string. \n",
    "# Sample string: 'w3resource' \n",
    "# Expected output: {'3': 1,’s’: 1, 'r': 2, 'u': 1, 'w': 1, 'c': 1, 'e': 2, 'o': 1}\n",
    "\n",
    "dc={}\n",
    "for key in 'w3resourse':\n",
    "    dc.update({key:'w3resource'.count(key)})\n",
    "print(dc)\n",
    "\n",
    "# user input string:\n",
    "string=input('Enter string to make dictionary :')\n",
    "dc1={}\n",
    "for key in string:\n",
    "    dc1.update({key:string.count(key)})\n",
    "print(dc1)"
   ]
  },
  {
   "cell_type": "code",
   "execution_count": null,
   "id": "c8ef21be",
   "metadata": {},
   "outputs": [],
   "source": [
    "# Write a Python function to calculate the factorial of a number (a nonnegative integer) \n",
    "\n",
    "def factorial():\n",
    "    try:\n",
    "        num=int(input('Enter any number to find Factorial :'))\n",
    "        mul=1\n",
    "        if num<0:\n",
    "            print('Please enter positive number :')\n",
    "        elif num==0:\n",
    "            print('Factorial of 0 is 1')\n",
    "        else:\n",
    "            for val in range(1,num+1):\n",
    "                fact=mul*val\n",
    "                mul=fact\n",
    "            print(f'{num}! = {fact}')\n",
    "    except:\n",
    "        print('enter only digit value')\n",
    "factorial()"
   ]
  },
  {
   "cell_type": "code",
   "execution_count": null,
   "id": "7c8c64ea",
   "metadata": {},
   "outputs": [],
   "source": [
    "# Write a Python function to check whether a number is in a given range.\n",
    "\n",
    "def range_number():\n",
    "    try:\n",
    "        number=int(input('Enter any random number to find it is in a given range or not: '))\n",
    "        start=500\n",
    "        end=1000\n",
    "        for num in range(start,end+1):\n",
    "            if num==number:\n",
    "                print(f'{number} is in a given range.')\n",
    "                break\n",
    "        else:\n",
    "            print(f'{number} is not in a given range.')\n",
    "    except:\n",
    "        print('please enter only digit number')\n",
    "range_number()"
   ]
  },
  {
   "cell_type": "code",
   "execution_count": null,
   "id": "fba22b54",
   "metadata": {},
   "outputs": [],
   "source": [
    "# Write a Python function to check whether a number is perfect or not.\n",
    "\n",
    "def perfect():\n",
    "    sum=0\n",
    "    number=int(input('enter any number :'))\n",
    "    for i in range(1,number):\n",
    "        if number%i==0:\n",
    "            sum+=i\n",
    "    if sum==number:\n",
    "        print(number,'is a perfect number')\n",
    "    else:\n",
    "        print(number,'is not a perfact number')\n",
    "\n",
    "perfect()"
   ]
  },
  {
   "cell_type": "code",
   "execution_count": null,
   "id": "50d28cea",
   "metadata": {},
   "outputs": [],
   "source": [
    "# Write a Python function that checks whether a passed string is palindrome or not.\n",
    "\n",
    "def palindrom():\n",
    "    string=input('Enter string :')\n",
    "    reverse=string[-1::-1]\n",
    "    if string==reverse:\n",
    "        print(f'{string} is a palindrom')\n",
    "    else:\n",
    "        print(f'{string} is not palindrom')\n",
    "palindrom()"
   ]
  },
  {
   "cell_type": "code",
   "execution_count": null,
   "id": "d9f155f4",
   "metadata": {},
   "outputs": [],
   "source": [
    "# How Many Basic Types Of Functions Are Available In Python?\n",
    "\n",
    "# -> there are two types of function available in python.\n",
    "#     - Built-in function\n",
    "#     - User define function"
   ]
  },
  {
   "cell_type": "code",
   "execution_count": null,
   "id": "8a58fbce",
   "metadata": {},
   "outputs": [],
   "source": [
    "# How can you pick a random item from a list or tuple?\n",
    "\n",
    "import random\n",
    "list=['Arjun','Bharat','Mahesh','Prakash','Manish','Anshul']\n",
    "list1=[1,2,3,4,5,6,7,8,9]\n",
    "print(random.choice(list))\n",
    "print(random.choice(list1))"
   ]
  },
  {
   "cell_type": "code",
   "execution_count": null,
   "id": "b61018a3",
   "metadata": {},
   "outputs": [],
   "source": [
    "# How can you pick a random item from a range?\n",
    "\n",
    "import random\n",
    "print(random.randint(50,52))"
   ]
  },
  {
   "cell_type": "code",
   "execution_count": null,
   "id": "f6287b9c",
   "metadata": {},
   "outputs": [],
   "source": [
    "# How can you get a random number in python?\n",
    "\n",
    "import random\n",
    "print(random.random())"
   ]
  },
  {
   "cell_type": "code",
   "execution_count": null,
   "id": "ae40ed12",
   "metadata": {},
   "outputs": [],
   "source": [
    "# How will you set the starting value in generating random numbers?\n",
    "\n",
    "import random\n",
    "start=int(input('Enter starting value of range :'))\n",
    "print(random.randint(start,start+100))"
   ]
  },
  {
   "cell_type": "code",
   "execution_count": null,
   "id": "95cd871d",
   "metadata": {},
   "outputs": [],
   "source": [
    "# How will you randomizes the items of a list in place? \n",
    "\n",
    "import random\n",
    "lst1=['Arjun','Bharat','Mahesh','Prakash','Manish','Anshul']\n",
    "random.shuffle(lst1)\n",
    "print(lst1)"
   ]
  },
  {
   "cell_type": "code",
   "execution_count": null,
   "id": "fdaf0bc9",
   "metadata": {},
   "outputs": [],
   "source": [
    "# Write a Python program to read a random line from a file."
   ]
  },
  {
   "cell_type": "code",
   "execution_count": null,
   "id": "194c31d9",
   "metadata": {},
   "outputs": [],
   "source": [
    "# Write a Python program to convert degree to radian.\n",
    "\n",
    "import math\n",
    "print(math.radians(30))"
   ]
  },
  {
   "cell_type": "code",
   "execution_count": null,
   "id": "ca982e45",
   "metadata": {},
   "outputs": [],
   "source": [
    "# Write a Python program to calculate the area of a trapezoid.\n",
    "\n",
    "def trapezoid():\n",
    "    a=float(input('Enter value of base :'))\n",
    "    b=float(input('Enter value of base :'))\n",
    "    c=float(input('Enter value of hight :'))\n",
    "    area=((a+b)*c/2)\n",
    "    print(area)\n",
    "trapezoid()"
   ]
  },
  {
   "cell_type": "code",
   "execution_count": null,
   "id": "0f08ce19",
   "metadata": {},
   "outputs": [],
   "source": [
    "# Write a Python program to calculate the area of a parallelogram.\n",
    "\n",
    "def parallelogram():\n",
    "    b=float(input('Enter value of base :'))\n",
    "    h=float(input('Enter value of hight :'))\n",
    "    area=(b*h)\n",
    "    print(area)\n",
    "parallelogram()"
   ]
  },
  {
   "cell_type": "code",
   "execution_count": null,
   "id": "fd5d2e75",
   "metadata": {},
   "outputs": [],
   "source": [
    "# Write a Python program to calculate surface volume and area of a cylinder.\n",
    "\n",
    "def cylinder():\n",
    "    r=float(input('Enter Radius of the cylinder in meter :'))\n",
    "    h=float(input('Enter height of the cylinder in meter :'))\n",
    "    area=((3.14*2*r)*h)\n",
    "    volume=((3.14*r**2)*h)\n",
    "    print(f'Area of cylinder is {area} m2')\n",
    "    print(f'volume of cylinder is {volume} m3')\n",
    "cylinder()"
   ]
  },
  {
   "cell_type": "code",
   "execution_count": null,
   "id": "c7cb7f49",
   "metadata": {},
   "outputs": [],
   "source": [
    "#  Write a Python program to returns sum of all divisors of a number.\n",
    "\n",
    "num=int(input('Enter any number :'))\n",
    "lst=[1]\n",
    "sum=1\n",
    "for val in range(2,num+1):\n",
    "    if num%val==0:\n",
    "        lst.append(val)\n",
    "        sum=sum+val\n",
    "print(sum)"
   ]
  },
  {
   "cell_type": "code",
   "execution_count": null,
   "id": "3b95a2b1",
   "metadata": {},
   "outputs": [],
   "source": [
    "# Write a Python program to find the maximum and minimum numbers from the specified decimal numbers.\n",
    "\n",
    "a=[4.20,5.25,80.2,1.6,24.62,126.35,250.16,75.621,65.24]\n",
    "print(max(a))\n",
    "print(min(a))"
   ]
  }
 ],
 "metadata": {
  "kernelspec": {
   "display_name": "Python 3 (ipykernel)",
   "language": "python",
   "name": "python3"
  },
  "language_info": {
   "codemirror_mode": {
    "name": "ipython",
    "version": 3
   },
   "file_extension": ".py",
   "mimetype": "text/x-python",
   "name": "python",
   "nbconvert_exporter": "python",
   "pygments_lexer": "ipython3",
   "version": "3.9.12"
  }
 },
 "nbformat": 4,
 "nbformat_minor": 5
}
