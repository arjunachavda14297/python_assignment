{
 "cells": [
  {
   "cell_type": "markdown",
   "id": "2a18026f",
   "metadata": {},
   "source": [
    "# Module 2"
   ]
  },
  {
   "cell_type": "code",
   "execution_count": null,
   "id": "149cb2f2",
   "metadata": {},
   "outputs": [],
   "source": [
    "# Write a Python program to check if a number is positive, negative or zero.\n",
    "\n",
    "a=int(input('Enter any number:'))\n",
    "if a<0:\n",
    "    print(a,'is negative number.')\n",
    "elif a>0:\n",
    "    print(a,'is positive number.')\n",
    "else:\n",
    "    print(a,'is zero.')"
   ]
  },
  {
   "cell_type": "code",
   "execution_count": null,
   "id": "f51e881b",
   "metadata": {},
   "outputs": [],
   "source": [
    "# Write a Python program to get the Factorial number of given number.\n",
    "\n",
    "a=int(input('Enter any number to find factorial:'))\n",
    "sum=1\n",
    "for number in range(1,a+1):\n",
    "    sum=sum*number\n",
    "print(a,'! =',sum)"
   ]
  },
  {
   "cell_type": "code",
   "execution_count": null,
   "id": "a6c8ee42",
   "metadata": {},
   "outputs": [],
   "source": [
    "# Write a Python program to get the Fibonacci series of given range.\n",
    "\n",
    "range1=int(input('Enter range for fibonacci series :'))\n",
    "n1,n2=0,1\n",
    "print('Fibonacci series: ',n1,n2,end=' ')\n",
    "for number in range(range1-2):\n",
    "    n3=n1+n2\n",
    "    print(n3,end=' ')\n",
    "    n1=n2\n",
    "    n2=n3"
   ]
  },
  {
   "cell_type": "code",
   "execution_count": null,
   "id": "28f29183",
   "metadata": {},
   "outputs": [],
   "source": [
    "#How memory is managed in Python?\n",
    "# --> ============================================================================="
   ]
  },
  {
   "cell_type": "code",
   "execution_count": null,
   "id": "638e1527",
   "metadata": {},
   "outputs": [],
   "source": [
    "# What is the purpose continue statement in python?\n",
    "# - continue statement is used into loop with any condition is given to it.\n",
    "# - If condition satisfy than continue next eteration without execute next code of current loop.\n",
    "\n",
    "for a in range(10):\n",
    "    if a==5:\n",
    "        print(f'--{a}--')\n",
    "        continue\n",
    "    print(a,end=',')"
   ]
  },
  {
   "cell_type": "code",
   "execution_count": null,
   "id": "b8c32014",
   "metadata": {},
   "outputs": [],
   "source": [
    "# Write python program that swap two number with temp variable and without temp variable.\n",
    "\n",
    "x=10\n",
    "y=15\n",
    "\n",
    "x=x+y\n",
    "y=x-y\n",
    "x=x-y\n",
    "print('x :',x,'y :',y)"
   ]
  },
  {
   "cell_type": "code",
   "execution_count": null,
   "id": "a7468f1a",
   "metadata": {},
   "outputs": [],
   "source": [
    "#  Write a Python program to find whether a given number is even or odd, print out an appropriate message to the user.\n",
    "\n",
    "num=int(input('Enter any number to find given number is even or odd :'))\n",
    "if num%2==0:\n",
    "    print(num,'is even, because',num,'is devided by 2 with 0 reminder')\n",
    "else:\n",
    "    print(num,'is odd, because',num,'gives 1 reminder when it devided by 2.')"
   ]
  },
  {
   "cell_type": "code",
   "execution_count": null,
   "id": "7b57948b",
   "metadata": {},
   "outputs": [],
   "source": [
    "# Write a Python program to test whether a passed letter is a vowel or not.\n",
    "\n",
    "char=input('Enter any charecter to find it is vowel or not : ')\n",
    "list=['a','e','i','o','u']\n",
    "if char.isalpha()==True:\n",
    "    if char in list:\n",
    "        print(char,'is vowel')\n",
    "    else:\n",
    "        print(char,'is consonant')\n",
    "else:\n",
    "    print('Invalid charecter, Enter only alphabate')"
   ]
  },
  {
   "cell_type": "code",
   "execution_count": null,
   "id": "b242566e",
   "metadata": {},
   "outputs": [],
   "source": [
    "# Write a Python program to sum of three given integers.However, if two values are equal sum will be zero.\n",
    "\n",
    "num1=int(input('Enter number 1 : '))\n",
    "num2=int(input('Enter number 2 : '))\n",
    "num3=int(input('Enter number 3 : '))\n",
    "\n",
    "if num1==num2 or num1==num3 or num2==num3:\n",
    "    print('sum of three number is 0')\n",
    "else:\n",
    "    sum=num1+num2+num3\n",
    "    print('sum :',num1,'+',num2,'+',num3,'=',sum)"
   ]
  },
  {
   "cell_type": "code",
   "execution_count": null,
   "id": "62106239",
   "metadata": {},
   "outputs": [],
   "source": [
    "# Write a Python program that will return true if the two given integer values are equal or their sum or difference is 5.\n",
    "\n",
    "num1=int(input('Enter number1 : '))\n",
    "num2=int(input('Enter number2 : '))\n",
    "\n",
    "sum=num1+num2\n",
    "diff=num1-num2\n",
    "\n",
    "if num1==num2 or sum==5 or sum==-5 or diff==5 or diff==-5:\n",
    "    print(True)\n",
    "else:\n",
    "    print('try again')"
   ]
  },
  {
   "cell_type": "code",
   "execution_count": null,
   "id": "2ff1af54",
   "metadata": {},
   "outputs": [],
   "source": [
    "# Write a python program to sum of the first n positive integers.\n",
    "\n",
    "num=int(input('Enter range to sum integers : '))\n",
    "sum=0\n",
    "for no in range(num+1):\n",
    "    sum+=no\n",
    "print('sum of first',num,'number is',sum)\n",
    "\n",
    "# sum of between to positive integers.\n",
    "\n",
    "num1=int(input('Enter first value of range : '))\n",
    "num2=int(input('Enter last value of range : '))\n",
    "\n",
    "sum=0\n",
    "for no in range(num1):\n",
    "    sum+=no\n",
    "    sum1=sum\n",
    "\n",
    "sum=0\n",
    "for no in range(num2+1):\n",
    "    sum+=no\n",
    "    sum2=sum\n",
    "\n",
    "diff=sum2-sum1\n",
    "print('Sum of between two integer number',num1,'and',num2,'is',diff)"
   ]
  },
  {
   "cell_type": "code",
   "execution_count": null,
   "id": "bb7e3678",
   "metadata": {},
   "outputs": [],
   "source": [
    "# Write a Python program to calculate the length of a string.\n",
    "\n",
    "str=input('Enter sentence to find its length : ')\n",
    "length=len(str)\n",
    "print('length of this string is',length)"
   ]
  },
  {
   "cell_type": "code",
   "execution_count": null,
   "id": "eaf19810",
   "metadata": {},
   "outputs": [],
   "source": [
    "# Write a Python program to count the number of characters (character frequency) in a string.\n",
    "\n",
    "str=input('Enter sentence : ')\n",
    "l=[' ']\n",
    "for val in str:\n",
    "    if val not in l:\n",
    "        cherecter=str.count(val)\n",
    "        print(val,cherecter,end=' / ')\n",
    "    l.append(val)"
   ]
  },
  {
   "cell_type": "code",
   "execution_count": null,
   "id": "1d503747",
   "metadata": {},
   "outputs": [],
   "source": [
    "# What are negative indexes and why are they used?\n",
    "# -> Negative indexing is one type of indexing which is start from right to left or we say last to first.\n",
    "# -> Negative indexing is very useful for easy operation with such function.\n",
    "# -> ex. If we want to write reverse string than we will use negative indexing.\n",
    "\n",
    "str=input('Enter string : ')\n",
    "w=str[-1::-1]\n",
    "print(w)"
   ]
  },
  {
   "cell_type": "code",
   "execution_count": null,
   "id": "0f47d837",
   "metadata": {},
   "outputs": [],
   "source": [
    "# Write a Python program to count occurrences of a substring in a string.\n",
    "\n",
    "root=input('enter string value : ')\n",
    "str=root.rstrip('.')\n",
    "w=str.split('.')\n",
    "list=len(w)\n",
    "print('occurrences of a substring in a string is',list,'times.')"
   ]
  },
  {
   "cell_type": "code",
   "execution_count": null,
   "id": "0fb91e2d",
   "metadata": {},
   "outputs": [],
   "source": [
    "# Write a Python program to count the occurrences of each word in a given sentence\n",
    "\n",
    "root=input('enter string value : ')\n",
    "st1=root.replace('.',' ')\n",
    "st=st1.rstrip('.')\n",
    "w=st1.split()\n",
    "list=len(w)\n",
    "print('occurrences of a substring in a string is',list,'times.')"
   ]
  },
  {
   "cell_type": "code",
   "execution_count": null,
   "id": "cca1b500",
   "metadata": {},
   "outputs": [],
   "source": [
    "# Write a Python program to get a single string from two given strings, separated by a space and swap the first two _\n",
    "# characters of each string.\n",
    "\n",
    "str1=input('Enter string 1 : ')\n",
    "str2=input('Enter string 2 : ')\n",
    "s1=str1[0:2]\n",
    "s2=str2[0:2]\n",
    "bs1=str1[2:]\n",
    "bs2=str2[2:]\n",
    "w1=s1.swapcase()\n",
    "w2=s2.swapcase()\n",
    "final=w1+bs1+\" \"+w2+bs2\n",
    "print('Single string from two given strings is :',final)"
   ]
  },
  {
   "cell_type": "code",
   "execution_count": null,
   "id": "ad688997",
   "metadata": {},
   "outputs": [],
   "source": [
    "# Write a Python program to add 'ing' at the end of a given string (length should be at least 3).\n",
    "# If the given string already ends with 'ing' then add 'ly'\n",
    "# instead if the string length of the given string is less than 3, leave it unchanged.\n",
    "\n",
    "str=input('Enter string : ')\n",
    "if len(str)>=3:\n",
    "    w=str[-3::1]\n",
    "    if w=='ing':\n",
    "        print(str+'ly')\n",
    "    else:\n",
    "        print(str+'ing')\n",
    "else:\n",
    "    print(str)"
   ]
  },
  {
   "cell_type": "code",
   "execution_count": null,
   "id": "60149162",
   "metadata": {},
   "outputs": [],
   "source": [
    "# Write a Python program to find the first appearance of the substring 'not' and 'poor' from a given string,\n",
    "# if 'not' follows the 'poor', replace the whole 'not'...'poor'substring with 'good'. Return the resulting string.\n",
    "\n",
    "def not_poor(str1):\n",
    "  snot = str1.find('not')\n",
    "  spoor = str1.find('poor')\n",
    "  \n",
    "\n",
    "  if spoor > snot and snot>0 and spoor>0:\n",
    "    str1 = str1.replace(str1[snot:(spoor+4)], 'good')\n",
    "    return str1\n",
    "  else:\n",
    "    return str1\n",
    "print(not_poor('The lyrics is not that poor!'))\n",
    "print(not_poor('The lyrics is poor!'))"
   ]
  },
  {
   "cell_type": "code",
   "execution_count": null,
   "id": "29b18cbc",
   "metadata": {},
   "outputs": [],
   "source": [
    "# Write a Python function that takes a list of words and returns the length of the longest one.\n",
    "# -> len(max[list])\n",
    "\n",
    "l=['arjun','chavda','ahir','raj','lakshmi','krishnaa']\n",
    "b=[]\n",
    "for w in l:\n",
    "    b.append(len(w))\n",
    "x=b.index(max(b))\n",
    "r=max(b)\n",
    "print(l[x],r)"
   ]
  },
  {
   "cell_type": "code",
   "execution_count": null,
   "id": "8f61416e",
   "metadata": {},
   "outputs": [],
   "source": [
    "# Write a Python function to reverses a string if its length is a multiple of 4.\n",
    "\n",
    "str=input(\"Enter string : \")\n",
    "if len(str)%4==0:\n",
    "    print(str[-1::-1])\n",
    "else:\n",
    "    print(str)"
   ]
  },
  {
   "cell_type": "code",
   "execution_count": null,
   "id": "6c4b18d7",
   "metadata": {},
   "outputs": [],
   "source": [
    "# Write a Python program to get a string made of the first 2 and the last 2 chars from a given a string.\n",
    "# If the string length is lessthan 2,return instead of the empty string.\n",
    "\n",
    "str=input('Enter string : ')\n",
    "if len(str)==2:\n",
    "    print(str*2)\n",
    "elif len(str)<2:\n",
    "    print('Empty string')\n",
    "else:\n",
    "    f=str[0:2]\n",
    "    e=str[-2::1]\n",
    "    print(f+e)"
   ]
  },
  {
   "cell_type": "code",
   "execution_count": null,
   "id": "26a023be",
   "metadata": {},
   "outputs": [],
   "source": [
    "# Write a Python function to insert a string in the middle of a string.\n",
    "\n",
    "str=input('Enter string : ')\n",
    "str2=input('Enter substring which is insert middle of the string : ')\n",
    "length=len(str)\n",
    "if length%2==0:\n",
    "    x=int((length/2))\n",
    "    s1=str[0:x]\n",
    "    s2=str[x:]\n",
    "    print(s1+str2+s2)\n",
    "else:\n",
    "    x=int((length/2)+1)\n",
    "    s1=str[0:x]\n",
    "    s2=str[x:]\n",
    "    print(s1+str2+s2)"
   ]
  }
 ],
 "metadata": {
  "kernelspec": {
   "display_name": "Python 3 (ipykernel)",
   "language": "python",
   "name": "python3"
  },
  "language_info": {
   "codemirror_mode": {
    "name": "ipython",
    "version": 3
   },
   "file_extension": ".py",
   "mimetype": "text/x-python",
   "name": "python",
   "nbconvert_exporter": "python",
   "pygments_lexer": "ipython3",
   "version": "3.9.12"
  }
 },
 "nbformat": 4,
 "nbformat_minor": 5
}
